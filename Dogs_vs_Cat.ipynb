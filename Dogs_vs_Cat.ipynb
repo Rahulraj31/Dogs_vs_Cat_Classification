{
  "nbformat": 4,
  "nbformat_minor": 0,
  "metadata": {
    "colab": {
      "name": "Dogs vs Cat.ipynb",
      "provenance": []
    },
    "kernelspec": {
      "name": "python3",
      "display_name": "Python 3"
    },
    "language_info": {
      "name": "python"
    },
    "accelerator": "GPU"
  },
  "cells": [
    {
      "cell_type": "code",
      "metadata": {
        "id": "_RH1M5oLIxxT"
      },
      "source": [
        "import PIL.Image as Image\n",
        "import cv2\n",
        "import numpy as np\n",
        "\n",
        "import matplotlib.pylab as plt\n",
        "\n",
        "import tensorflow as tf\n",
        "import tensorflow_hub as hub\n",
        "\n",
        "from tensorflow import keras\n",
        "from tensorflow.keras import layers,losses\n",
        "from tensorflow.keras.models import Sequential"
      ],
      "execution_count": 1,
      "outputs": []
    },
    {
      "cell_type": "code",
      "metadata": {
        "colab": {
          "base_uri": "https://localhost:8080/"
        },
        "id": "MGi0Xas9cyeY",
        "outputId": "cb9640ef-4587-43fa-d229-e93042fd3082"
      },
      "source": [
        "from google.colab import drive\n",
        "drive.mount('/content/drive')"
      ],
      "execution_count": 2,
      "outputs": [
        {
          "output_type": "stream",
          "text": [
            "Drive already mounted at /content/drive; to attempt to forcibly remount, call drive.mount(\"/content/drive\", force_remount=True).\n"
          ],
          "name": "stdout"
        }
      ]
    },
    {
      "cell_type": "code",
      "metadata": {
        "id": "p3Doob_fI6OT"
      },
      "source": [
        ""
      ],
      "execution_count": 2,
      "outputs": []
    },
    {
      "cell_type": "code",
      "metadata": {
        "id": "keH_Q8vYJGKs"
      },
      "source": [
        "import os\n",
        "import zipfile\n",
        "\n",
        "local_zip = '/content/drive/MyDrive/Colab Notebooks/archive.zip'\n",
        "zip_ref = zipfile.ZipFile(local_zip, 'r')\n",
        "zip_ref.extractall('/content')\n",
        "zip_ref.close()"
      ],
      "execution_count": 3,
      "outputs": []
    },
    {
      "cell_type": "code",
      "metadata": {
        "colab": {
          "base_uri": "https://localhost:8080/"
        },
        "id": "lhdP3DeQKcH5",
        "outputId": "45ffa448-f9dd-4fe6-e61b-4b28e5a9e3c8"
      },
      "source": [
        "import pathlib                               \n",
        "train_dir = pathlib.Path(\"/content/dataset/training_set\")\n",
        "\n",
        "\n",
        "print(train_dir)"
      ],
      "execution_count": 4,
      "outputs": [
        {
          "output_type": "stream",
          "text": [
            "/content/dataset/training_set\n"
          ],
          "name": "stdout"
        }
      ]
    },
    {
      "cell_type": "code",
      "metadata": {
        "colab": {
          "base_uri": "https://localhost:8080/"
        },
        "id": "RvO7QlmRTe0Z",
        "outputId": "b038446c-d98e-469e-c109-a1cab4450822"
      },
      "source": [
        "\n",
        "list(train_dir.glob('*/*'))[:5] "
      ],
      "execution_count": 5,
      "outputs": [
        {
          "output_type": "execute_result",
          "data": {
            "text/plain": [
              "[PosixPath('/content/dataset/training_set/cats/cat.465.jpg'),\n",
              " PosixPath('/content/dataset/training_set/cats/cat.2164.jpg'),\n",
              " PosixPath('/content/dataset/training_set/cats/cat.2814.jpg'),\n",
              " PosixPath('/content/dataset/training_set/cats/cat.611.jpg'),\n",
              " PosixPath('/content/dataset/training_set/cats/cat.22.jpg')]"
            ]
          },
          "metadata": {
            "tags": []
          },
          "execution_count": 5
        }
      ]
    },
    {
      "cell_type": "code",
      "metadata": {
        "colab": {
          "base_uri": "https://localhost:8080/"
        },
        "id": "Dspf2TIbJohT",
        "outputId": "04886ac7-ca71-47cb-9e5a-da88af01cc14"
      },
      "source": [
        "cat_train= list(train_dir.glob('cats/*'))\n",
        "len(cat_train)"
      ],
      "execution_count": 6,
      "outputs": [
        {
          "output_type": "execute_result",
          "data": {
            "text/plain": [
              "4000"
            ]
          },
          "metadata": {
            "tags": []
          },
          "execution_count": 6
        }
      ]
    },
    {
      "cell_type": "code",
      "metadata": {
        "colab": {
          "base_uri": "https://localhost:8080/"
        },
        "id": "mNYJj4FtKj0q",
        "outputId": "9445b697-efbb-4ed8-bc0e-f38097d6d517"
      },
      "source": [
        "image_count= len(list(train_dir.glob('*/*.jpg')))\n",
        "image_count"
      ],
      "execution_count": 7,
      "outputs": [
        {
          "output_type": "execute_result",
          "data": {
            "text/plain": [
              "8000"
            ]
          },
          "metadata": {
            "tags": []
          },
          "execution_count": 7
        }
      ]
    },
    {
      "cell_type": "code",
      "metadata": {
        "colab": {
          "base_uri": "https://localhost:8080/",
          "height": 35
        },
        "id": "XMUUxDPJMPvM",
        "outputId": "030b3647-cae9-4fbc-fdee-c4031c961247"
      },
      "source": [
        "\"\"\"Image.open(str(cat_train[1500]))\"\"\""
      ],
      "execution_count": 8,
      "outputs": [
        {
          "output_type": "execute_result",
          "data": {
            "application/vnd.google.colaboratory.intrinsic+json": {
              "type": "string"
            },
            "text/plain": [
              "'Image.open(str(cat_train[1500]))'"
            ]
          },
          "metadata": {
            "tags": []
          },
          "execution_count": 8
        }
      ]
    },
    {
      "cell_type": "code",
      "metadata": {
        "colab": {
          "base_uri": "https://localhost:8080/"
        },
        "id": "9YqnZ2wgMaB0",
        "outputId": "140f0e17-4b58-487a-90ee-424254ec245b"
      },
      "source": [
        "dog_train= list(train_dir.glob('dogs/*'))\n",
        "len(cat_train)"
      ],
      "execution_count": 9,
      "outputs": [
        {
          "output_type": "execute_result",
          "data": {
            "text/plain": [
              "4000"
            ]
          },
          "metadata": {
            "tags": []
          },
          "execution_count": 9
        }
      ]
    },
    {
      "cell_type": "code",
      "metadata": {
        "colab": {
          "base_uri": "https://localhost:8080/",
          "height": 35
        },
        "id": "ZkQL2GMdMjTC",
        "outputId": "a1142d9f-168f-4dcc-9609-8b9bfd869370"
      },
      "source": [
        "\"\"\"Image.open(str(dog_train[1569]))\"\"\""
      ],
      "execution_count": 10,
      "outputs": [
        {
          "output_type": "execute_result",
          "data": {
            "application/vnd.google.colaboratory.intrinsic+json": {
              "type": "string"
            },
            "text/plain": [
              "'Image.open(str(dog_train[1569]))'"
            ]
          },
          "metadata": {
            "tags": []
          },
          "execution_count": 10
        }
      ]
    },
    {
      "cell_type": "code",
      "metadata": {
        "id": "PVnMiVPuMld7"
      },
      "source": [
        "images_dict = {\n",
        "    'cats': cat_train[:2200],\n",
        "    'dogs': dog_train[:2200],\n",
        "}"
      ],
      "execution_count": 11,
      "outputs": []
    },
    {
      "cell_type": "code",
      "metadata": {
        "colab": {
          "base_uri": "https://localhost:8080/"
        },
        "id": "IrgeEqWsMn97",
        "outputId": "137ca763-6b97-4fdd-a8d7-83c32eeac263"
      },
      "source": [
        "images_dict[\"dogs\"][:5]"
      ],
      "execution_count": 12,
      "outputs": [
        {
          "output_type": "execute_result",
          "data": {
            "text/plain": [
              "[PosixPath('/content/dataset/training_set/dogs/dog.3856.jpg'),\n",
              " PosixPath('/content/dataset/training_set/dogs/dog.310.jpg'),\n",
              " PosixPath('/content/dataset/training_set/dogs/dog.1005.jpg'),\n",
              " PosixPath('/content/dataset/training_set/dogs/dog.3461.jpg'),\n",
              " PosixPath('/content/dataset/training_set/dogs/dog.286.jpg')]"
            ]
          },
          "metadata": {
            "tags": []
          },
          "execution_count": 12
        }
      ]
    },
    {
      "cell_type": "code",
      "metadata": {
        "id": "X6ljJedhMxfM"
      },
      "source": [
        "labels_dict = {\n",
        "    'cats': 0,\n",
        "    'dogs': 1,\n",
        "    \n",
        "}"
      ],
      "execution_count": 13,
      "outputs": []
    },
    {
      "cell_type": "code",
      "metadata": {
        "id": "DqUOc4-OM6kk"
      },
      "source": [
        "img= cv2.imread(str(images_dict['cats'][0]))"
      ],
      "execution_count": 14,
      "outputs": []
    },
    {
      "cell_type": "code",
      "metadata": {
        "colab": {
          "base_uri": "https://localhost:8080/"
        },
        "id": "dNkJwxBzM818",
        "outputId": "f03b36a8-8777-42f4-c899-aef315a031f0"
      },
      "source": [
        "img.shape"
      ],
      "execution_count": 15,
      "outputs": [
        {
          "output_type": "execute_result",
          "data": {
            "text/plain": [
              "(374, 500, 3)"
            ]
          },
          "metadata": {
            "tags": []
          },
          "execution_count": 15
        }
      ]
    },
    {
      "cell_type": "code",
      "metadata": {
        "id": "8IdBFA8GNiD8"
      },
      "source": [
        "\n",
        "X, y = [], []\n",
        "for name,images in images_dict.items():#returns key , path for each record\n",
        "    for image in images:\n",
        "        img=cv2.imread(str(image))\n",
        "     \n",
        "        resize_img=cv2.resize(img,(224,224))\n",
        "       \n",
        "        X.append(resize_img)\n",
        "        y.append(labels_dict[name])"
      ],
      "execution_count": 16,
      "outputs": []
    },
    {
      "cell_type": "code",
      "metadata": {
        "id": "r7qAygzaNmuc"
      },
      "source": [
        "X = np.array(X)\n",
        "y = np.array(y)"
      ],
      "execution_count": 17,
      "outputs": []
    },
    {
      "cell_type": "code",
      "metadata": {
        "colab": {
          "base_uri": "https://localhost:8080/"
        },
        "id": "k4FHj6QUORk6",
        "outputId": "ab077a18-6c94-487a-ce20-1497c2c05a10"
      },
      "source": [
        "X.shape,y.shape"
      ],
      "execution_count": 18,
      "outputs": [
        {
          "output_type": "execute_result",
          "data": {
            "text/plain": [
              "((4400, 224, 224, 3), (4400,))"
            ]
          },
          "metadata": {
            "tags": []
          },
          "execution_count": 18
        }
      ]
    },
    {
      "cell_type": "code",
      "metadata": {
        "id": "N03jowSYOTr7"
      },
      "source": [
        "from sklearn.model_selection import train_test_split\n",
        "X_train, X_test, y_train, y_test = train_test_split(X, y, test_size=0.30 ,random_state=0)"
      ],
      "execution_count": 19,
      "outputs": []
    },
    {
      "cell_type": "code",
      "metadata": {
        "id": "msGfEvlNOeVD"
      },
      "source": [
        "feature_extractor_model = \"https://tfhub.dev/google/tf2-preview/mobilenet_v2/feature_vector/4\"\n",
        "\n",
        "pretrained_model_without_top_layer = hub.KerasLayer(\n",
        "    feature_extractor_model, input_shape=(224, 224, 3), trainable=False)"
      ],
      "execution_count": 20,
      "outputs": []
    },
    {
      "cell_type": "code",
      "metadata": {
        "id": "mArEqNIWO-zz"
      },
      "source": [
        "model = Sequential([\n",
        "                pretrained_model_without_top_layer,\n",
        "                tf.keras.layers.Dense(2)\n",
        "])"
      ],
      "execution_count": 21,
      "outputs": []
    },
    {
      "cell_type": "code",
      "metadata": {
        "colab": {
          "base_uri": "https://localhost:8080/"
        },
        "id": "KdPj1wXdPAXz",
        "outputId": "71736005-4918-4578-8e11-704ce5061cb9"
      },
      "source": [
        "model.summary()"
      ],
      "execution_count": 22,
      "outputs": [
        {
          "output_type": "stream",
          "text": [
            "Model: \"sequential\"\n",
            "_________________________________________________________________\n",
            "Layer (type)                 Output Shape              Param #   \n",
            "=================================================================\n",
            "keras_layer (KerasLayer)     (None, 1280)              2257984   \n",
            "_________________________________________________________________\n",
            "dense (Dense)                (None, 2)                 2562      \n",
            "=================================================================\n",
            "Total params: 2,260,546\n",
            "Trainable params: 2,562\n",
            "Non-trainable params: 2,257,984\n",
            "_________________________________________________________________\n"
          ],
          "name": "stdout"
        }
      ]
    },
    {
      "cell_type": "code",
      "metadata": {
        "id": "KKQTpg47PEiD"
      },
      "source": [
        "# Scaling the image \n",
        "X_train_scaled = X_train / 255\n",
        "X_test_scaled = X_test / 255"
      ],
      "execution_count": 23,
      "outputs": []
    },
    {
      "cell_type": "code",
      "metadata": {
        "colab": {
          "base_uri": "https://localhost:8080/"
        },
        "id": "X5eVKqiWPGhs",
        "outputId": "72bcc151-1c29-4481-aeb1-30858d7436c2"
      },
      "source": [
        "model.compile(\n",
        "    optimizer=\"adam\",\n",
        "    loss=keras.losses.SparseCategoricalCrossentropy(from_logits=True),\n",
        "    metrics=['acc']\n",
        ")\n",
        "model.fit(X_train_scaled, y_train, epochs=5)"
      ],
      "execution_count": 24,
      "outputs": [
        {
          "output_type": "stream",
          "text": [
            "Epoch 1/5\n",
            "97/97 [==============================] - 37s 43ms/step - loss: 0.1648 - acc: 0.9364\n",
            "Epoch 2/5\n",
            "97/97 [==============================] - 4s 40ms/step - loss: 0.0578 - acc: 0.9795\n",
            "Epoch 3/5\n",
            "97/97 [==============================] - 4s 41ms/step - loss: 0.0449 - acc: 0.9831\n",
            "Epoch 4/5\n",
            "97/97 [==============================] - 4s 40ms/step - loss: 0.0371 - acc: 0.9873\n",
            "Epoch 5/5\n",
            "97/97 [==============================] - 4s 40ms/step - loss: 0.0289 - acc: 0.9896\n"
          ],
          "name": "stdout"
        },
        {
          "output_type": "execute_result",
          "data": {
            "text/plain": [
              "<tensorflow.python.keras.callbacks.History at 0x7f4d8a27d250>"
            ]
          },
          "metadata": {
            "tags": []
          },
          "execution_count": 24
        }
      ]
    },
    {
      "cell_type": "code",
      "metadata": {
        "colab": {
          "base_uri": "https://localhost:8080/"
        },
        "id": "yJ1Bghz4PHt8",
        "outputId": "a8c54339-0150-47c9-e627-c7a41a9aff3d"
      },
      "source": [
        "model.evaluate(X_test_scaled,y_test)"
      ],
      "execution_count": 25,
      "outputs": [
        {
          "output_type": "stream",
          "text": [
            "42/42 [==============================] - 2s 41ms/step - loss: 0.0382 - acc: 0.9894\n"
          ],
          "name": "stdout"
        },
        {
          "output_type": "execute_result",
          "data": {
            "text/plain": [
              "[0.03824220597743988, 0.989393949508667]"
            ]
          },
          "metadata": {
            "tags": []
          },
          "execution_count": 25
        }
      ]
    },
    {
      "cell_type": "code",
      "metadata": {
        "id": "AgmpmStHwLt6"
      },
      "source": [
        ""
      ],
      "execution_count": 26,
      "outputs": []
    }
  ]
}